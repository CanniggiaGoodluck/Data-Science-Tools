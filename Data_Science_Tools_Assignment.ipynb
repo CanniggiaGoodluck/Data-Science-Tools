{
  "nbformat": 4,
  "nbformat_minor": 0,
  "metadata": {
    "colab": {
      "provenance": [],
      "authorship_tag": "ABX9TyO2UWvd/1zW7L223f2Uiu7Z",
      "include_colab_link": true
    },
    "kernelspec": {
      "name": "python3",
      "display_name": "Python 3"
    },
    "language_info": {
      "name": "python"
    }
  },
  "cells": [
    {
      "cell_type": "markdown",
      "metadata": {
        "id": "view-in-github",
        "colab_type": "text"
      },
      "source": [
        "<a href=\"https://colab.research.google.com/github/CanniggiaGoodluck/Data-Science-Tools/blob/main/Data_Science_Tools_Assignment.ipynb\" target=\"_parent\"><img src=\"https://colab.research.google.com/assets/colab-badge.svg\" alt=\"Open In Colab\"/></a>"
      ]
    },
    {
      "cell_type": "markdown",
      "source": [
        "# Data Science Tools and Ecosystem"
      ],
      "metadata": {
        "id": "MEGSig-ZdDiL"
      }
    },
    {
      "cell_type": "markdown",
      "source": [
        "In this notebook, Data Science Tools and Ecosystems are summarized."
      ],
      "metadata": {
        "id": "lb7FKAHVeNGR"
      }
    },
    {
      "cell_type": "markdown",
      "source": [
        "Some of the popular languages that Data Scientists use are:\n",
        "1. Python\n",
        "2. R\n",
        "3. SQL\n",
        "4. Scala\n",
        "5. Java \n",
        "6. C++"
      ],
      "metadata": {
        "id": "JMfBXDZYeg7a"
      }
    },
    {
      "cell_type": "markdown",
      "source": [
        "__Objective__\n",
        "* List Popular Languages used by Data Scientist for Data Science \n",
        "* List Common Libraries used by Data Scientist for  Data Science\n",
        "* List Data Science Tools\n",
        "* Perform Arithmetic Expressions in Python  \n"
      ],
      "metadata": {
        "id": "h-0_YHNRir6R"
      }
    },
    {
      "cell_type": "markdown",
      "source": [
        "Some of the commonly used Libraries used by Data Scientist include:\n",
        "1. Pandas\n",
        "2. NumPy\n",
        "3. SciPy\n",
        "4. Kera\n",
        "5. SciKit-Learn\n",
        "6. PyTorch\n",
        "7. Tensorflow"
      ],
      "metadata": {
        "id": "0Q7TwVy6fZwZ"
      }
    },
    {
      "cell_type": "markdown",
      "source": [
        "| Data Science Tools |\n",
        "| ------ |\n",
        "| JupyterLab (Jupyter Notebook) |\n",
        "| Apache Zeppeling (Zeppeling Notebook) |\n",
        "| Spyder |"
      ],
      "metadata": {
        "id": "wMTwddh-gQVf"
      }
    },
    {
      "cell_type": "markdown",
      "source": [
        "### Below are few examples of evaluating arithmetic expressions in Python "
      ],
      "metadata": {
        "id": "wnm-pcqmg2SP"
      }
    },
    {
      "cell_type": "markdown",
      "source": [
        "This is a simple arithmetic expression to multiply then add integers."
      ],
      "metadata": {
        "id": "7bc8SN1KhY37"
      }
    },
    {
      "cell_type": "code",
      "source": [
        "(3*4)+5"
      ],
      "metadata": {
        "colab": {
          "base_uri": "https://localhost:8080/"
        },
        "id": "W2SlYu0QhorK",
        "outputId": "f8a6411a-0e1c-4721-eea8-7b18df455a1a"
      },
      "execution_count": null,
      "outputs": [
        {
          "output_type": "execute_result",
          "data": {
            "text/plain": [
              "17"
            ]
          },
          "metadata": {},
          "execution_count": 3
        }
      ]
    },
    {
      "cell_type": "markdown",
      "source": [
        "This will convert 200 mintues to hours by dividing by 60. "
      ],
      "metadata": {
        "id": "3qzbLq5Rh3ai"
      }
    },
    {
      "cell_type": "code",
      "source": [
        "200/60"
      ],
      "metadata": {
        "colab": {
          "base_uri": "https://localhost:8080/"
        },
        "id": "49DXdHeTiJHj",
        "outputId": "a02c0af0-c46b-4f60-9d52-d97d033ccd22"
      },
      "execution_count": null,
      "outputs": [
        {
          "output_type": "execute_result",
          "data": {
            "text/plain": [
              "3.3333333333333335"
            ]
          },
          "metadata": {},
          "execution_count": 4
        }
      ]
    },
    {
      "cell_type": "markdown",
      "source": [
        "## Author\n",
        "Canniggia Goodluck "
      ],
      "metadata": {
        "id": "oejnJUtAie9a"
      }
    },
    {
      "cell_type": "code",
      "source": [],
      "metadata": {
        "id": "CywjZ4boiosd"
      },
      "execution_count": null,
      "outputs": []
    }
  ]
}