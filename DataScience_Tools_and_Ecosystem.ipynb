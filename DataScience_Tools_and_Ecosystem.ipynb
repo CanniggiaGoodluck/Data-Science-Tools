{
  "nbformat": 4,
  "nbformat_minor": 0,
  "metadata": {
    "colab": {
      "provenance": [],
      "authorship_tag": "ABX9TyP3Cn0EtpmqCoOfWpTt+uXT",
      "include_colab_link": true
    },
    "kernelspec": {
      "name": "python3",
      "display_name": "Python 3"
    },
    "language_info": {
      "name": "python"
    }
  },
  "cells": [
    {
      "cell_type": "markdown",
      "metadata": {
        "id": "view-in-github",
        "colab_type": "text"
      },
      "source": [
        "<a href=\"https://colab.research.google.com/github/CanniggiaGoodluck/Data-Science-Tools/blob/main/DataScience_Tools_and_Ecosystem.ipynb\" target=\"_parent\"><img src=\"https://colab.research.google.com/assets/colab-badge.svg\" alt=\"Open In Colab\"/></a>"
      ]
    },
    {
      "cell_type": "markdown",
      "source": [
        "# Data Science Tools and Ecosystem"
      ],
      "metadata": {
        "id": "88QjWD0NQqAY"
      }
    },
    {
      "cell_type": "markdown",
      "source": [
        "In this notebook, Data Science Tools and Ecosystem are summarized."
      ],
      "metadata": {
        "id": "sSVUgGRtcapI"
      }
    },
    {
      "cell_type": "markdown",
      "source": [
        "Some of the popular languages that Data Scientist use are:\n",
        "1. Python\n",
        "2. R\n",
        "3. SQL\n",
        "4. Java \n",
        "5. C++\n",
        "6. Javascript\n",
        "7. Scala\n",
        "8. Julia "
      ],
      "metadata": {
        "id": "kEX4P5yEeAtf"
      }
    },
    {
      "cell_type": "markdown",
      "source": [
        "__Objectives__\n",
        "* List languages used by Data Scientist\n",
        "* List libraries used by Data Scientist \n",
        "* List Data Science Tools \n",
        "* Execute Arithmetic Expression in Python\n"
      ],
      "metadata": {
        "id": "WXqrwjZ9jAz0"
      }
    },
    {
      "cell_type": "markdown",
      "source": [
        "Some of the commonly used libraries used by Data Scientist include:\n",
        "1. Pandas\n",
        "2. NumPy\n",
        "3. SciPy\n",
        "4. TensorFlow\n",
        "5. PyTorch \n",
        "6. Kera\n",
        "7. Ggplot2\n",
        "8. SciKit-Learn \n"
      ],
      "metadata": {
        "id": "M0M8sxhgfFNX"
      }
    },
    {
      "cell_type": "markdown",
      "source": [
        "| Data Science Tools |\n",
        "| ------- |\n",
        "| Anaconda |\n",
        "| Jupyter Notebook |\n",
        "| R Studio |\n",
        "| Spyder |\n",
        "| Zeppelin |"
      ],
      "metadata": {
        "id": "e-BII05qgNSy"
      }
    },
    {
      "cell_type": "markdown",
      "source": [
        "### Below are a few examples of evaluating arithmetic expressions in Python"
      ],
      "metadata": {
        "id": "_t9dTRYmg1SZ"
      }
    },
    {
      "cell_type": "code",
      "source": [
        "# This is a simple arithmetic expression to multiply then add integers\n",
        "(3*4)+5"
      ],
      "metadata": {
        "colab": {
          "base_uri": "https://localhost:8080/"
        },
        "id": "xmrgoDt3hNGw",
        "outputId": "7a2e12ee-1349-4668-af88-5a6a3640a6a4"
      },
      "execution_count": 2,
      "outputs": [
        {
          "output_type": "execute_result",
          "data": {
            "text/plain": [
              "17"
            ]
          },
          "metadata": {},
          "execution_count": 2
        }
      ]
    },
    {
      "cell_type": "code",
      "source": [
        "# This will convert 200 minutes to hours to hours by dividing by 60\n",
        "200/60"
      ],
      "metadata": {
        "colab": {
          "base_uri": "https://localhost:8080/"
        },
        "id": "aOki3uOEh6l_",
        "outputId": "54f41689-d63d-4bb3-adf1-47f91068c36f"
      },
      "execution_count": 3,
      "outputs": [
        {
          "output_type": "execute_result",
          "data": {
            "text/plain": [
              "3.3333333333333335"
            ]
          },
          "metadata": {},
          "execution_count": 3
        }
      ]
    },
    {
      "cell_type": "markdown",
      "source": [
        "## Author \n",
        "Canniggia Goodluck"
      ],
      "metadata": {
        "id": "PT-y6kBOj_Rl"
      }
    },
    {
      "cell_type": "code",
      "source": [],
      "metadata": {
        "id": "lxeP-d_0kGy0"
      },
      "execution_count": null,
      "outputs": []
    }
  ]
}